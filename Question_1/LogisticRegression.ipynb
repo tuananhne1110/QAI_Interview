{
 "cells": [
  {
   "cell_type": "markdown",
   "metadata": {},
   "source": [
    "# MNIST Multi Class Classification\n"
   ]
  },
  {
   "cell_type": "code",
   "execution_count": 1,
   "metadata": {},
   "outputs": [],
   "source": [
    "# Libraries\n",
    "import numpy as np\n",
    "import gzip\n",
    "import struct\n",
    "import matplotlib.pyplot as plt\n",
    "import h5py"
   ]
  },
  {
   "cell_type": "markdown",
   "metadata": {},
   "source": [
    "### Load Images"
   ]
  },
  {
   "cell_type": "code",
   "execution_count": 2,
   "metadata": {},
   "outputs": [],
   "source": [
    "def load_images(filename, header_size=16, dtype=np.uint8):\n",
    "    \"\"\"Load images from a gzip-compressed file and return them as a matrix of pixels.\n",
    "\n",
    "    Args:\n",
    "        filename (str): Path to the gzip-compressed file containing the images.\n",
    "        header_size (int): Number of bytes to read for the header information.\n",
    "        dtype (type): Data type for the pixel values.\n",
    "\n",
    "    Returns:\n",
    "        np.ndarray: Matrix of pixel values where each row represents an image.\n",
    "    \"\"\"\n",
    "    with gzip.open(filename, 'rb') as f:\n",
    "        # Read header information\n",
    "        _ignored, n_images, columns, rows = struct.unpack('>IIII', f.read(header_size))\n",
    "        # Read all pixel values into a NumPy array\n",
    "        all_pixels = np.frombuffer(f.read(), dtype=dtype)\n",
    "    return all_pixels.reshape(n_images, columns * rows)"
   ]
  },
  {
   "cell_type": "code",
   "execution_count": 3,
   "metadata": {},
   "outputs": [],
   "source": [
    "def prepend_bias(X, bias_value=1):\n",
    "    \"\"\"Prepend a column of bias values to the input matrix.\n",
    "\n",
    "    Args:\n",
    "        X (np.ndarray): Input matrix where each row is an observation.\n",
    "        bias_value (int): The value to use for the bias column (default is 1).\n",
    "\n",
    "    Returns:\n",
    "        np.ndarray: Matrix with an additional column of bias values prepended.\n",
    "    \"\"\"\n",
    "    return np.insert(X, 0, bias_value, axis=1)"
   ]
  },
  {
   "cell_type": "markdown",
   "metadata": {},
   "source": [
    "### Load Labels"
   ]
  },
  {
   "cell_type": "code",
   "execution_count": 4,
   "metadata": {},
   "outputs": [],
   "source": [
    "def load_labels(filename, header_size=8, dtype=np.uint8):\n",
    "    \"\"\"Load labels from a gzip-compressed file and return them as a one-column matrix.\n",
    "\n",
    "    Args:\n",
    "        filename (str): Path to the gzip-compressed file containing the labels.\n",
    "        header_size (int): Number of bytes to skip for the header information (default is 8).\n",
    "        dtype (type): Data type for the labels (default is np.uint8).\n",
    "\n",
    "    Returns:\n",
    "        np.ndarray: Array of labels with one column.\n",
    "    \"\"\"\n",
    "    with gzip.open(filename, 'rb') as f:\n",
    "        f.read(header_size)  # Skip the header bytes\n",
    "        all_labels = f.read()\n",
    "    return np.frombuffer(all_labels, dtype=dtype).reshape(-1, 1)"
   ]
  },
  {
   "cell_type": "code",
   "execution_count": 5,
   "metadata": {},
   "outputs": [],
   "source": [
    "def one_hot_encode(Y, n_classes=10):\n",
    "    \"\"\"One-hot encode the labels.\n",
    "\n",
    "    Args:\n",
    "        Y (np.ndarray): Array of labels to encode.\n",
    "        n_classes (int): Number of classes for encoding (default is 10).\n",
    "\n",
    "    Returns:\n",
    "        np.ndarray: One-hot encoded matrix where each row corresponds to a label.\n",
    "    \"\"\"\n",
    "    Y = Y.flatten()\n",
    "    n_labels = Y.size\n",
    "    encoded_Y = np.zeros((n_labels, n_classes), dtype=np.uint8)\n",
    "    encoded_Y[np.arange(n_labels), Y] = 1\n",
    "    return encoded_Y"
   ]
  },
  {
   "cell_type": "code",
   "execution_count": 6,
   "metadata": {},
   "outputs": [],
   "source": [
    "# 60000 images, each 785 elements (1 bias + 28 * 28 pixels)\n",
    "X_train = prepend_bias(load_images(\"./data/train-images-idx3-ubyte.gz\"))\n",
    "\n",
    "# 10000 images, each 785 elements, with the same structure as X_train\n",
    "X_test = prepend_bias(load_images(\"./data/t10k-images-idx3-ubyte.gz\"))\n",
    "\n",
    "# 60K labels, each a single digit from 0 to 9\n",
    "Y_train_unencoded = load_labels(\"./data/train-labels-idx1-ubyte.gz\")\n",
    "\n",
    "# 60K labels, each consisting of 10 one-hot encoded elements\n",
    "Y_train = one_hot_encode(Y_train_unencoded)\n",
    "\n",
    "# 10000 labels, each a single digit from 0 to 9\n",
    "Y_test = load_labels(\"./data/t10k-labels-idx1-ubyte.gz\")"
   ]
  },
  {
   "cell_type": "code",
   "execution_count": 7,
   "metadata": {},
   "outputs": [],
   "source": [
    "class LogisticRegression:\n",
    "    def __init__(self, learning_rate=0.01, iterations=100, n_classes=10):\n",
    "        \"\"\"Initialize the logistic regression model.\n",
    "\n",
    "        Args:\n",
    "            learning_rate (float): Learning rate for gradient descent (default is 0.01).\n",
    "            iterations (int): Number of iterations for training (default is 100).\n",
    "            n_classes (int): Number of classes for classification (default is 10).\n",
    "        \"\"\"\n",
    "        self.learning_rate = learning_rate\n",
    "        self.iterations = iterations\n",
    "        self.n_classes = n_classes\n",
    "        self.w = None\n",
    "\n",
    "    def sigmoid(self, z):\n",
    "        \"\"\"Compute the sigmoid of z.\"\"\"\n",
    "        return 1 / (1 + np.exp(-z))\n",
    "\n",
    "    def forward(self, X):\n",
    "        \"\"\"Perform forward propagation.\"\"\"\n",
    "        weighted_sum = np.matmul(X, self.w)\n",
    "        return self.sigmoid(weighted_sum)\n",
    "\n",
    "    def classify(self, X):\n",
    "        \"\"\"Classify input samples using logistic regression.\"\"\"\n",
    "        y_hat = self.forward(X)\n",
    "        labels = np.argmax(y_hat, axis=1)\n",
    "        return labels.reshape(-1, 1)\n",
    "\n",
    "    def loss(self, X, Y):\n",
    "        \"\"\"Compute the loss for logistic regression.\"\"\"\n",
    "        y_hat = self.forward(X)\n",
    "        epsilon = 1e-10\n",
    "        first_term = Y * np.log(y_hat + epsilon)\n",
    "        second_term = (1 - Y) * np.log(1 - y_hat + epsilon)\n",
    "        return -np.sum(first_term + second_term) / X.shape[0]\n",
    "\n",
    "    def gradient(self, X, Y):\n",
    "        \"\"\"Compute the gradient of the loss function.\"\"\"\n",
    "        return np.matmul(X.T, (self.forward(X) - Y)) / X.shape[0]\n",
    "\n",
    "    def report(self, iteration, X_train, Y_train, X_test, Y_test):\n",
    "        \"\"\"Print training progress and performance.\"\"\"\n",
    "        predictions = self.classify(X_test)\n",
    "        matches = np.sum(predictions == Y_test)\n",
    "        n_test_examples = Y_test.shape[0]\n",
    "        accuracy = (matches / n_test_examples) * 100.0\n",
    "        training_loss = self.loss(X_train, Y_train)\n",
    "        if iteration % 20 == 0 or iteration == self.iterations - 1:\n",
    "            print(f\"{iteration} - Loss: {training_loss:.20f}, Accuracy: {accuracy:.2f}%\")\n",
    "\n",
    "    def train(self, X_train, Y_train, X_test, Y_test):\n",
    "        \"\"\"Train the logistic regression model.\"\"\"\n",
    "        self.w = np.zeros((X_train.shape[1], self.n_classes))\n",
    "        for i in range(self.iterations):\n",
    "            self.report(i, X_train, Y_train, X_test, Y_test)\n",
    "            self.w -= self.gradient(X_train, Y_train) * self.learning_rate\n",
    "        self.report(self.iterations, X_train, Y_train, X_test, Y_test)\n",
    "        return self.w\n",
    "    \n",
    "    def test(self, X_test, Y_test):\n",
    "        \"\"\"Test the logistic regression model and print the accuracy.\"\"\"\n",
    "        predictions = self.classify(X_test)\n",
    "        accuracy = np.mean(predictions == Y_test) * 100\n",
    "        print(f\"Test accuracy: {accuracy:.2f}%\")\n",
    "        return predictions\n",
    "\n",
    "    def visualize_predictions(self, X_test, Y_test, predictions, num_images=10):\n",
    "        \"\"\"Visualize predictions and ground truth for a number of images.\n",
    "\n",
    "        Args:\n",
    "            X_test (np.ndarray): Testing features.\n",
    "            Y_test (np.ndarray): True labels.\n",
    "            predictions (np.ndarray): Model predictions.\n",
    "            num_images (int): Number of images to display (default is 10).\n",
    "        \"\"\"\n",
    "        plt.figure(figsize=(10, 2))\n",
    "        for i in range(num_images):\n",
    "            plt.subplot(1, num_images, i + 1)\n",
    "            plt.imshow(X_test[i, 1:].reshape(28, 28), cmap='gray')\n",
    "            plt.title(f\"Pred: {predictions[i][0]}\\nTrue: {Y_test[i][0]}\")\n",
    "            plt.axis('off')\n",
    "        plt.show()\n",
    "\n",
    "    \n",
    "    def save_model(self, filename):\n",
    "        \"\"\"Save the model weights to an HDF5 file.\n",
    "\n",
    "        Args:\n",
    "            filename (str): Path to the file where the weights will be saved.\n",
    "        \"\"\"\n",
    "        with h5py.File(filename, 'w') as f:\n",
    "            f.create_dataset('weights', data=self.w)"
   ]
  },
  {
   "cell_type": "code",
   "execution_count": 8,
   "metadata": {},
   "outputs": [
    {
     "name": "stdout",
     "output_type": "stream",
     "text": [
      "0 - Loss: 6.93147180359944137251, Accuracy: 9.80%\n",
      "20 - Loss: 1.25378277377550784166, Accuracy: 86.22%\n",
      "40 - Loss: 1.08333179847129335016, Accuracy: 87.81%\n",
      "60 - Loss: 1.00734656120775367683, Accuracy: 88.66%\n",
      "80 - Loss: 0.96254470236340150535, Accuracy: 89.22%\n",
      "100 - Loss: 0.93231666702460036511, Accuracy: 89.39%\n",
      "120 - Loss: 0.91020540723081666545, Accuracy: 89.65%\n",
      "140 - Loss: 0.89313861839768649009, Accuracy: 89.80%\n",
      "160 - Loss: 0.87945221804051387782, Accuracy: 90.02%\n",
      "180 - Loss: 0.86815891858095894928, Accuracy: 90.18%\n",
      "199 - Loss: 0.85907340947088317584, Accuracy: 90.32%\n",
      "200 - Loss: 0.85863192545845890002, Accuracy: 90.32%\n",
      "Test accuracy: 90.32%\n"
     ]
    },
    {
     "data": {
      "image/png": "[encoded data removed]",
      "text/plain": [
       "<Figure size 1000x200 with 10 Axes>"
      ]
     },
     "metadata": {},
     "output_type": "display_data"
    }
   ],
   "source": [
    "# Initialize and train the model\n",
    "model = LogisticRegression(learning_rate=1e-5, iterations=200)\n",
    "model.train(X_train, Y_train, X_test, Y_test)\n",
    "\n",
    "# Save the model weights\n",
    "model.save_model(\"logistic_regression_weights.h5\")\n",
    "\n",
    "# Test the model\n",
    "predictions = model.test(X_test, Y_test)\n",
    "\n",
    "# Visualize predictions\n",
    "model.visualize_predictions(X_test, Y_test, predictions, num_images=10)"
   ]
  },
  {
   "cell_type": "code",
   "execution_count": null,
   "metadata": {},
   "outputs": [],
   "source": []
  }
 ],
 "metadata": {
  "kernelspec": {
   "display_name": "env",
   "language": "python",
   "name": "python3"
  },
  "language_info": {
   "codemirror_mode": {
    "name": "ipython",
    "version": 3
   },
   "file_extension": ".py",
   "mimetype": "text/x-python",
   "name": "python",
   "nbconvert_exporter": "python",
   "pygments_lexer": "ipython3",
   "version": "3.8.19"
  }
 },
 "nbformat": 4,
 "nbformat_minor": 2
}
